{
 "cells": [
  {
   "attachments": {},
   "cell_type": "markdown",
   "id": "123456",
   "metadata": {},
   "source": [
    "<div style=\"text-align:left;font-size:2em\"><span style=\"font-weight:bolder;font-size:1.25em\">SP2273 | Learning Portfolio</span><br><br><span style=\"font-weight:bold;color:darkred\">Functions (Need) Exercises</span></div>"
   ]
  },
  {
   "cell_type": "code",
   "execution_count": null,
   "id": "3d8c74b2",
   "metadata": {},
   "outputs": [
    {
     "data": {
      "text/plain": [
       "'Hello Batman! So, nice to meet you!'"
      ]
     },
     "execution_count": 8,
     "metadata": {},
     "output_type": "execute_result"
    }
   ],
   "source": [
    "def greeting(name):\n",
    "    if name == 'Batman':\n",
    "        return 'Hello Batman! So, nice to meet you!'\n",
    "    return f'Hello {name}!'\n",
    "greeting(\"Batman\")\n",
    "#As the second return code indentation is \"outside\" of the if statement, so if the condition for the if statement is not met it will return 4th line of code.\n",
    "#If greeting(\"name\") = \"Batman\", it meets the condition of the if statement so it will return the third line of code ending the code there.\n",
    "#If return is replace with print, it will still work. the function of return is to produce/store an output. print() is basically a function that produces an output.\n",
    "#Since both are similiar in producing an output, it will both work.\n",
    "#Using print would result in 2 strings whereas for return it will only return 1 string. This is because since there is no else statement, if the condition is met for the if statement, it will output the string provided and continue on to print the next string resulting in two strings. If return is used instead, once the condition is satisfied, it will print the 1st string and the functions will stop running preventing any other code from running in the function resulting in only 1 string."
   ]
  },
  {
   "cell_type": "code",
   "execution_count": 9,
   "id": "d1d0effe",
   "metadata": {},
   "outputs": [
    {
     "name": "stdout",
     "output_type": "stream",
     "text": [
      "Hello Batman! So, nice to meet you!\n",
      "Hello Batman!\n"
     ]
    }
   ],
   "source": [
    "def greeting(name):\n",
    "    if name == 'Batman':\n",
    "        print(\"Hello Batman! So, nice to meet you!\")\n",
    "    print( f'Hello {name}!')\n",
    "greeting(\"Batman\")"
   ]
  },
  {
   "cell_type": "markdown",
   "id": "88f7ce74",
   "metadata": {},
   "source": [
    "The code above wont work as no input is given, thus it will return nothing! An example to produce a result would be the last line of code!\n"
   ]
  },
  {
   "cell_type": "code",
   "execution_count": 10,
   "id": "205bf259",
   "metadata": {},
   "outputs": [
    {
     "name": "stdout",
     "output_type": "stream",
     "text": [
      "Normal Weight\n",
      "Overweight\n",
      "Normal Weight\n"
     ]
    }
   ],
   "source": [
    "def bmi(weight,height):\n",
    "    BMI = weight/(height ** 2)\n",
    "    if BMI < 18.5:\n",
    "        print(\"Underweight\")\n",
    "    elif BMI >= 18.5 and BMI < 25:\n",
    "        print(\"Normal Weight\")\n",
    "    elif BMI >= 25 and BMI < 30:\n",
    "        print(\"Overweight\")\n",
    "    elif BMI >= 30:\n",
    "        print(\"Obese\")\n",
    "\n",
    "bmi(60,1.65)\n",
    "bmi(100,1.9)\n",
    "bmi(76.4,1.75)"
   ]
  },
  {
   "cell_type": "code",
   "execution_count": 11,
   "id": "262f20c2",
   "metadata": {},
   "outputs": [
    {
     "name": "stdout",
     "output_type": "stream",
     "text": [
      "120\n",
      "720\n",
      "1\n",
      "n can not be negative!\n"
     ]
    }
   ],
   "source": [
    "def factorial(n):\n",
    "    if n >= 0:\n",
    "        amount = 1\n",
    "        for i in range(1,n+1):\n",
    "            amount *= i\n",
    "        print(amount)\n",
    "    else:\n",
    "        print(\"n can not be negative!\")\n",
    "factorial(5)\n",
    "factorial(6)\n",
    "factorial(0)\n",
    "factorial(-3)"
   ]
  }
 ],
 "metadata": {
  "kernelspec": {
   "display_name": "learning-portfolio-Eldonchng",
   "language": "python",
   "name": "python3"
  },
  "language_info": {
   "codemirror_mode": {
    "name": "ipython",
    "version": 3
   },
   "file_extension": ".py",
   "mimetype": "text/x-python",
   "name": "python",
   "nbconvert_exporter": "python",
   "pygments_lexer": "ipython3",
   "version": "3.13.5"
  },
  "toc": {
   "base_numbering": 1,
   "nav_menu": {},
   "number_sections": true,
   "sideBar": true,
   "skip_h1_title": false,
   "title_cell": "Table of Contents",
   "title_sidebar": "Contents",
   "toc_cell": false,
   "toc_position": {},
   "toc_section_display": true,
   "toc_window_display": false
  }
 },
 "nbformat": 4,
 "nbformat_minor": 5
}
