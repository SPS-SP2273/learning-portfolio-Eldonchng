{
 "cells": [
  {
   "attachments": {},
   "cell_type": "markdown",
   "id": "123456",
   "metadata": {},
   "source": [
    "<div style=\"text-align:left;font-size:2em\"><span style=\"font-weight:bolder;font-size:1.25em\">SP2273 | Learning Portfolio</span><br><br><span style=\"font-weight:bold;color:darkred\">Loops (Need) Exercises</span></div>"
   ]
  },
  {
   "cell_type": "code",
   "execution_count": 3,
   "id": "265f18ec",
   "metadata": {},
   "outputs": [
    {
     "name": "stdout",
     "output_type": "stream",
     "text": [
      "[(0, 273.15), (5, 278.15), (10, 283.15), (15, 288.15), (20, 293.15), (25, 298.15), (30, 303.15), (35, 308.15), (40, 313.15), (45, 318.15), (50, 323.15)]\n"
     ]
    }
   ],
   "source": [
    "temperatures_celsius = [\n",
    "    0, 5, 10, 15, 20, 25,\n",
    "    30, 35, 40, 45, 50\n",
    "]\n",
    "temperatures_farenheit = []\n",
    "for value in temperatures_celsius:\n",
    "    farenheit = value + 273.15\n",
    "    temperatures_farenheit.append(farenheit)\n",
    "celsius_farenheit = list(zip(temperatures_celsius,temperatures_farenheit))\n",
    "print(celsius_farenheit)"
   ]
  },
  {
   "cell_type": "code",
   "execution_count": 20,
   "id": "a59c91f8",
   "metadata": {},
   "outputs": [
    {
     "name": "stdout",
     "output_type": "stream",
     "text": [
      "1:\n",
      "    1\t    2\t    3\t    4\t    5\t\n",
      "\n",
      "2:\n",
      "    2\t    4\t    6\t    8\t   10\t\n",
      "\n",
      "3:\n",
      "    3\t    6\t    9\t   12\t   15\t\n",
      "\n",
      "4:\n",
      "    4\t    8\t   12\t   16\t   20\t\n",
      "\n",
      "5:\n",
      "    5\t   10\t   15\t   20\t   25\t\n",
      "\n"
     ]
    }
   ],
   "source": [
    "for count,x in enumerate(range(1,6,),1):\n",
    "    print(f\"{count}:\")\n",
    "    for y in range(1,6):\n",
    "        total = x * y\n",
    "        print(f\"{total:>5}\", end=\"\\t\")\n",
    "    print(\"\\n\")"
   ]
  },
  {
   "cell_type": "code",
   "execution_count": 6,
   "id": "d6ac5d22",
   "metadata": {},
   "outputs": [
    {
     "name": "stdout",
     "output_type": "stream",
     "text": [
      "Total number of heads:6\n",
      "Total number of heads:8\n",
      "Total number of heads:6\n",
      "Total number of heads:3\n",
      "Total number of heads:5\n",
      "Total number of heads:6\n",
      "Total number of heads:3\n",
      "Total number of heads:7\n",
      "Total number of heads:4\n",
      "Total number of heads:6\n"
     ]
    }
   ],
   "source": [
    "import numpy as np\n",
    "random = np.random.rand(10)\n",
    "n = 0\n",
    "while n < 10:\n",
    "    random = np.random.rand(10)\n",
    "    random_head = random > 0.5\n",
    "    total = random_head.sum()\n",
    "    print(f\"Total number of heads:{total}\")\n",
    "    n += 1"
   ]
  }
 ],
 "metadata": {
  "kernelspec": {
   "display_name": "learning-portfolio-Eldonchng",
   "language": "python",
   "name": "python3"
  },
  "language_info": {
   "codemirror_mode": {
    "name": "ipython",
    "version": 3
   },
   "file_extension": ".py",
   "mimetype": "text/x-python",
   "name": "python",
   "nbconvert_exporter": "python",
   "pygments_lexer": "ipython3",
   "version": "3.13.5"
  },
  "toc": {
   "base_numbering": 1,
   "nav_menu": {},
   "number_sections": true,
   "sideBar": true,
   "skip_h1_title": false,
   "title_cell": "Table of Contents",
   "title_sidebar": "Contents",
   "toc_cell": false,
   "toc_position": {},
   "toc_section_display": true,
   "toc_window_display": false
  }
 },
 "nbformat": 4,
 "nbformat_minor": 5
}
