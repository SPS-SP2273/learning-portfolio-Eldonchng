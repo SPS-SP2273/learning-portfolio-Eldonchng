{
 "cells": [
  {
   "attachments": {},
   "cell_type": "markdown",
   "id": "123456",
   "metadata": {},
   "source": [
    "<div style=\"text-align:left;font-size:2em\"><span style=\"font-weight:bolder;font-size:1.25em\">SP2273 | Learning Portfolio</span><br><br><span style=\"font-weight:bold;color:darkred\">Fundamentals (Good) Exercises</span></div>"
   ]
  },
  {
   "cell_type": "code",
   "execution_count": 4,
   "id": "8ef98a8f",
   "metadata": {},
   "outputs": [
    {
     "name": "stdout",
     "output_type": "stream",
     "text": [
      "How you doin, Eldon?\n"
     ]
    }
   ],
   "source": [
    "user_input = input('Please provide me your name:')\n",
    "print(f'How you doin, {user_input}?')"
   ]
  },
  {
   "cell_type": "code",
   "execution_count": 4,
   "id": "b9be5382",
   "metadata": {},
   "outputs": [
    {
     "name": "stdout",
     "output_type": "stream",
     "text": [
      "My name is Eldon and I am 21 years old! \n"
     ]
    }
   ],
   "source": [
    "name = input(\"Please provide your name\")\n",
    "age = input(\"Please provide your age\")\n",
    "print(f\"My name is {name} and I am {age} years old! \")"
   ]
  },
  {
   "cell_type": "code",
   "execution_count": 5,
   "id": "952ae0df",
   "metadata": {},
   "outputs": [
    {
     "name": "stdout",
     "output_type": "stream",
     "text": [
      "pi=3.14\n",
      "pi=3.142\n",
      "pi=3.1416\n"
     ]
    }
   ],
   "source": [
    " pi = 3.141592653589793\n",
    " print(f'{pi=:.2f}')\n",
    " print(f'{pi=:.3f}')\n",
    " print(f'{pi=:.4f}')"
   ]
  },
  {
   "cell_type": "code",
   "execution_count": 6,
   "id": "4108941a",
   "metadata": {},
   "outputs": [
    {
     "name": "stdout",
     "output_type": "stream",
     "text": [
      "Apple      $ 0.95\n",
      "Banana     $ 0.59\n",
      "Orange     $ 1.29\n"
     ]
    }
   ],
   "source": [
    "print(f'{\"Apple\":<5}'+ f'{\" $ 0.95\":>12}')\n",
    "print(f'{\"Banana\":<5}'+ f'{\" $ 0.59\":>11}')\n",
    "print(f'{\"Orange\":<5}'+ f'{\" $ 1.29\":>11}')"
   ]
  },
  {
   "cell_type": "code",
   "execution_count": null,
   "id": "a6a131b0",
   "metadata": {},
   "outputs": [],
   "source": [
    "score = int(input(\"Please indicate your score!\"))\n",
    "if 70 <= score <= 100:\n",
    "   print(\"A\")\n",
    "elif 50 <= score <= 69:\n",
    "    print(\"B\")\n",
    "elif 35 <= score <= 49:\n",
    "    print(\"C\")\n",
    "elif 0 <= score <= 34:\n",
    "    print(\"Fail\")\n",
    "else: \n",
    "    print(\"This is not a valid score!\")\n"
   ]
  },
  {
   "cell_type": "code",
   "execution_count": null,
   "id": "a159ca8b",
   "metadata": {},
   "outputs": [
    {
     "name": "stdout",
     "output_type": "stream",
     "text": [
      "120\n",
      "Invalid input\n"
     ]
    }
   ],
   "source": [
    "def factorial(n):\n",
    "    if n < 0:\n",
    "        return \"Invalid input\"\n",
    "    elif n == 0:\n",
    "        return 1\n",
    "    else:\n",
    "        result = 1\n",
    "        for number in range(1, n+1):\n",
    "            result *= number # this is the same as result = result * number where the result of result * number is stored and return back to result\n",
    "        return result\n",
    "print(factorial(5))   \n",
    "print(factorial(-1))  "
   ]
  }
 ],
 "metadata": {
  "kernelspec": {
   "display_name": "learning-portfolio-Eldonchng",
   "language": "python",
   "name": "python3"
  },
  "language_info": {
   "codemirror_mode": {
    "name": "ipython",
    "version": 3
   },
   "file_extension": ".py",
   "mimetype": "text/x-python",
   "name": "python",
   "nbconvert_exporter": "python",
   "pygments_lexer": "ipython3",
   "version": "3.13.5"
  },
  "toc": {
   "base_numbering": 1,
   "nav_menu": {},
   "number_sections": true,
   "sideBar": true,
   "skip_h1_title": false,
   "title_cell": "Table of Contents",
   "title_sidebar": "Contents",
   "toc_cell": false,
   "toc_position": {},
   "toc_section_display": true,
   "toc_window_display": false
  }
 },
 "nbformat": 4,
 "nbformat_minor": 5
}
