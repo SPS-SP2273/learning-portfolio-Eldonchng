{
 "cells": [
  {
   "attachments": {},
   "cell_type": "markdown",
   "id": "123456",
   "metadata": {},
   "source": [
    "<div style=\"text-align:left;font-size:2em\"><span style=\"font-weight:bolder;font-size:1.25em\">SP2273 | Learning Portfolio</span><br><br><span style=\"font-weight:bold;color:darkred\">Using Jupyter (Need), Exercises</span></div>"
   ]
  },
  {
   "attachments": {},
   "cell_type": "markdown",
   "id": "e47b843e",
   "metadata": {},
   "source": [
    "## 1 Quadratic Equations"
   ]
  },
  {
   "attachments": {},
   "cell_type": "markdown",
   "id": "35ed8ed8",
   "metadata": {},
   "source": [
    "### Introduction"
   ]
  },
  {
   "cell_type": "markdown",
   "id": "0f32915a",
   "metadata": {},
   "source": [
    "![](https://upload.wikimedia.org/wikipedia/commons/thumb/f/f8/Polynomialdeg2.svg/300px-Polynomialdeg2.svg.png)"
   ]
  },
  {
   "cell_type": "markdown",
   "id": "485afe9a",
   "metadata": {},
   "source": [
    "The general form of a quadratic equation is:"
   ]
  },
  {
   "cell_type": "markdown",
   "metadata": {},
   "source": [
    "$ax^{2} + bx^{2} + c = 0$\t\n"
   ]
  },
  {
   "attachments": {},
   "cell_type": "markdown",
   "id": "c70b941a",
   "metadata": {},
   "source": [
    "### Solutions"
   ]
  },
  {
   "cell_type": "markdown",
   "id": "057c1d86",
   "metadata": {},
   "source": [
    "The quantity $\\triangle = b^{2} - 4ac$  is called the **discriminant** of the equation and decides the nature of its solutions. The table below shows the various possibilities."
   ]
  },
  {
   "attachments": {},
   "cell_type": "markdown",
   "id": "e55563a2",
   "metadata": {},
   "source": [
    "### Discriminant"
   ]
  },
  {
   "cell_type": "markdown",
   "id": "6e9c5e00",
   "metadata": {},
   "source": [
    "| **Discriminant**   |  **Roots**   |    \n",
    "| :--- | :--: |\n",
    "| $\\triangle = b^{2} - 4ac$ = 0  |  A single solution of $-b/(2a)$  |  \n",
    "| $\\triangle = b^{2} - 4ac$ > 0  |  Two distinct solutions  | \n",
    "| $\\triangle = b^{2} - 4ac$ < 0   |  No real solutions; both are complex.  |   "
   ]
  },
  {
   "cell_type": "markdown",
   "id": "86adff4c",
   "metadata": {},
   "source": [
    "1. A form of digital storage for any  project allowing user to make and save their change to the user's source code.|\\2.It is able to keep track of the history of the user's source code  and their version of files.\\\n",
    "3.\"Commit\" is used to save changes made in the user's projcet to the local repository\\\n",
    "4.\"Push\" is a command that upload the local repository to a remote repository\\\n",
    "5.\"Pull\" is a command that collect the changes in the remote repository where it  download the content and immeediately update the local repository causing the content to integrate into the local repository.\\\n",
    "6.Github is a web platform and hosting service for Git repositories while the GitHub Desktop is a desktop application allowing interaction between Git and GitHub.\n"
   ]
  },
  {
   "cell_type": "markdown",
   "id": "f803b56d",
   "metadata": {},
   "source": [
    "$\\mu = \\dfrac{1}{n}\\sum_{i=1}^{n} x_i$\\\n",
    "$\\sigma = \\sqrt{\\dfrac{1}{n}\\sum_{i=1}^{n}(x_i - \\mu)^{2}}$\\\n",
    "$r = \\dfrac{\\sum_{i=1}^{n} (x_i - \\mu_\\chi)(y_i - \\mu_Y)}{\\sqrt{\\sum_{i=1}^{n}(x_i - \\mu_X)^{2} \\sum_{i=1}^{n}(y_i - \\mu_Y)^{2}}}$"
   ]
  }
 ],
 "metadata": {
  "kernelspec": {
   "display_name": "Python 3 (ipykernel)",
   "language": "python",
   "name": "python3"
  },
  "language_info": {
   "codemirror_mode": {
    "name": "ipython",
    "version": 3
   },
   "file_extension": ".py",
   "mimetype": "text/x-python",
   "name": "python",
   "nbconvert_exporter": "python",
   "pygments_lexer": "ipython3",
   "version": "3.13.5"
  },
  "toc": {
   "base_numbering": 1,
   "nav_menu": {},
   "number_sections": true,
   "sideBar": true,
   "skip_h1_title": false,
   "title_cell": "Table of Contents",
   "title_sidebar": "Contents",
   "toc_cell": false,
   "toc_position": {},
   "toc_section_display": true,
   "toc_window_display": false
  },
  "vscode": {
   "interpreter": {
    "hash": "31f2aee4e71d21fbe5cf8b01ff0e069b9275f58929596ceb00d14d90e3e16cd6"
   }
  }
 },
 "nbformat": 4,
 "nbformat_minor": 5
}
