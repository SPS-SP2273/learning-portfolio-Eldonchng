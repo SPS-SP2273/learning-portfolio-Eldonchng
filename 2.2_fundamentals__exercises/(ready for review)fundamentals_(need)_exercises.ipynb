{
 "cells": [
  {
   "attachments": {},
   "cell_type": "markdown",
   "id": "123456",
   "metadata": {},
   "source": [
    "<div style=\"text-align:left;font-size:2em\"><span style=\"font-weight:bolder;font-size:1.25em\">SP2273 | Learning Portfolio</span><br><br><span style=\"font-weight:bold;color:darkred\">Fundamentals (Need) Exercises</span></div>"
   ]
  },
  {
   "cell_type": "markdown",
   "id": "a2268484",
   "metadata": {},
   "source": [
    "\n",
    "1. Understanding functions\n",
    "2. Using Comments\n",
    "3. _= is not the same as ==_\n",
    "4. Making use of if/else statement\n",
    "5. Indentations is essential\n",
    "6. The difference between a string and a variable. \"age\" is a string but age = 2 is a variable\n",
    "7. _Packages_\n",
    "8. _different type of brackets_\n"
   ]
  },
  {
   "cell_type": "code",
   "execution_count": null,
   "id": "dbfe09a4",
   "metadata": {},
   "outputs": [
    {
     "name": "stdout",
     "output_type": "stream",
     "text": [
      "3 4 4.69041575982343\n"
     ]
    }
   ],
   "source": [
    "#Exercise 2\n",
    "\n",
    "import math\n",
    "\n",
    "x, y = 3, 4\n",
    "z = math.sqrt(x*2 + y**2)\n",
    "print(x, y,z)"
   ]
  },
  {
   "cell_type": "markdown",
   "id": "0316027d",
   "metadata": {},
   "source": []
  },
  {
   "cell_type": "markdown",
   "id": "5ab89298",
   "metadata": {},
   "source": [
    "| #   |  Term   |    Description |\n",
    "| :--- | :--: | ---: |\n",
    "| 1   |  Function  |  Functions are code that produces an output as they carried out a specific task. They are often indicated by paratheses |\n",
    "| 2  |  Arguments  |   argument provide input data into the functions resulting in an output |\n",
    "| 3   |  Comments  |   Comments is any information we would like to showcase that is ignored by python and will not run by code.it is often used to clarify/explain a line of code which help the user better understand the code.It can also help to organise different parts of code to prevent confusion.|\n",
    "| 4   |  Indentations  |  Indentations refers to spaces at the start of the code to help structure the coding sequence better. It also helps to group codes together and can used in such a way that helps us ensure that only certain codes will run at certain places. |\n",
    "| 5   |  Packages  |   packages are tools that store codes that are not found in python normally. Packages can be easily distrubted to any users for easy access. |\n",
    "| 6   |  .  |   The dot indicated ownership where the code before the dot is the package and after the dot is the code owned by the package. |\n",
    "| 7   |  :  |   Used to designated a block of code. |\n",
    "| 8   |  []  |   Used to store data in a list. |\n",
    "| 9   |  [[],[]]  |Two different list acting as items nested in a list  |\n",
    "| 10   |  {}  |   Used to store data in a dictionary. |\n"
   ]
  },
  {
   "cell_type": "code",
   "execution_count": null,
   "id": "634c13d4",
   "metadata": {},
   "outputs": [
    {
     "name": "stdout",
     "output_type": "stream",
     "text": [
      "2.5\n",
      "2\n",
      "1\n"
     ]
    }
   ],
   "source": [
    "#Exercise 4\n",
    "x = 5/2\n",
    "print(x) #The action perform a division like a fraction\n",
    "y = 5//2 \n",
    "print(y) #The action perform a division and round down the answer to the nearest interger\n",
    "z= 5%2\n",
    "print(z) #The action perform a divison and ONLY gives out the remainder of the divison as the output\n"
   ]
  }
 ],
 "metadata": {
  "kernelspec": {
   "display_name": "learning-portfolio-Eldonchng",
   "language": "python",
   "name": "python3"
  },
  "language_info": {
   "codemirror_mode": {
    "name": "ipython",
    "version": 3
   },
   "file_extension": ".py",
   "mimetype": "text/x-python",
   "name": "python",
   "nbconvert_exporter": "python",
   "pygments_lexer": "ipython3",
   "version": "3.13.5"
  },
  "toc": {
   "base_numbering": 1,
   "nav_menu": {},
   "number_sections": true,
   "sideBar": true,
   "skip_h1_title": false,
   "title_cell": "Table of Contents",
   "title_sidebar": "Contents",
   "toc_cell": false,
   "toc_position": {},
   "toc_section_display": true,
   "toc_window_display": false
  }
 },
 "nbformat": 4,
 "nbformat_minor": 5
}
