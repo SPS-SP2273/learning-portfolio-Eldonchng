{
 "cells": [
  {
   "attachments": {},
   "cell_type": "markdown",
   "id": "123456",
   "metadata": {},
   "source": [
    "<div style=\"text-align:left;font-size:2em\"><span style=\"font-weight:bolder;font-size:1.25em\">SP2273 | Learning Portfolio</span><br><br><span style=\"font-weight:bold;color:darkred\">Functions (Good) Exercises</span></div>"
   ]
  },
  {
   "cell_type": "code",
   "execution_count": 7,
   "id": "ff354904",
   "metadata": {},
   "outputs": [
    {
     "name": "stdout",
     "output_type": "stream",
     "text": [
      "293.15\n",
      "122.000\n",
      "0.0\n",
      "-3000 is not a proper temperature!\n"
     ]
    }
   ],
   "source": [
    "def convert_celsius(temperature_celsius,target_scale = \"Fahrenheit\"):\n",
    "    if target_scale == \"Kelvin\" and temperature_celsius >= -273.15:\n",
    "        temperature_k = temperature_celsius + 273.15\n",
    "        print(temperature_k)\n",
    "    elif temperature_celsius >= -273.15:\n",
    "        temperature_f = (temperature_celsius * 9/5) + (32)\n",
    "        print(f\"{temperature_f:.3f}\")\n",
    "    else:\n",
    "        print(f\"{temperature_celsius} is not a proper temperature!\")\n",
    "convert_celsius(20,\"Kelvin\")\n",
    "convert_celsius(50,\"Fahrenheit\")\n",
    "convert_celsius(-273.15,\"Kelvin\")\n",
    "convert_celsius(-3000,\"Fahrenheit\")\n",
    "\n"
   ]
  },
  {
   "cell_type": "code",
   "execution_count": 8,
   "id": "d417d0d6",
   "metadata": {},
   "outputs": [
    {
     "name": "stdout",
     "output_type": "stream",
     "text": [
      "Temperature must be a number.\n",
      "283.15\n",
      "Target scale must be either 'Kelvin' or 'Celsius'.\n",
      "-3000 is not a proper temperature!\n"
     ]
    }
   ],
   "source": [
    "def convert_fahrenheit(temperature_fahrenheit,target_scale):\n",
    "        if isinstance(temperature_fahrenheit, (int, float)) == True and target_scale in ( \"Kelvin\" or \"Celsius\"):\n",
    "\n",
    "            if target_scale == \"Kelvin\"and temperature_fahrenheit >= -459.67:\n",
    "                temperature_k = (temperature_fahrenheit -32 ) * (5/9) + 273.15\n",
    "                print(f\"{temperature_k:.2f}\")\n",
    "            elif temperature_fahrenheit  > -459.67 and target_scale == \"Celsius\":\n",
    "                temperature_c = ( temperature_fahrenheit -32 ) * (5/9)\n",
    "                print(temperature_c)\n",
    "            else:\n",
    "                print(f\"{temperature_fahrenheit} is not a proper temperature!\")\n",
    "        else:\n",
    "            if not isinstance(temperature_fahrenheit, (int, float)):\n",
    "                print(\"Temperature must be a number.\")\n",
    "            else:\n",
    "                print(\"Target scale must be either 'Kelvin' or 'Celsius'.\")\n",
    "\n",
    "#isinstance(value, classes) checks whether the value is the class specificed and return a True or False value.\n",
    "\n",
    "convert_fahrenheit(\"hello\",\"Kelvin\")\n",
    "convert_fahrenheit(50,\"Kelvin\")\n",
    "convert_fahrenheit(50,\"HELLO\")\n",
    "convert_fahrenheit(-3000,\"Kelvin\")\n",
    "\n",
    "\n"
   ]
  },
  {
   "cell_type": "code",
   "execution_count": null,
   "id": "74280592",
   "metadata": {},
   "outputs": [
    {
     "name": "stdout",
     "output_type": "stream",
     "text": [
      "473.15\n",
      "Please check whether -3000 and/or Celsius is the approriate value!\n",
      "What is Hello?\n",
      "Please check whether 200 and/or Thank you is the approriate value!\n",
      "172.04\n",
      "-253.15\n",
      "Source_scale can not be the same as target_scale!!!!\n"
     ]
    }
   ],
   "source": [
    "def convert_temperature(temperature,source_scale = \"\",target_scale=\"\"):\n",
    "    if source_scale == \"Celsius\" and temperature >= -273.15:\n",
    "        if target_scale == \"Kelvin\":\n",
    "            temperature_ck = temperature + 273.15\n",
    "            print(f\"{temperature_ck:.2f}\")\n",
    "        elif target_scale == \"Fahrenheit\":\n",
    "            temperature_cf = (temperature + 32)* (5/9)\n",
    "            print(f\"{temperature_cf:.2f}\")\n",
    "        elif target_scale == \"Celsius\":\n",
    "            print(f\"Source_scale can not be the same as target_scale!!!!\")\n",
    "        else:\n",
    "            print(f\"What is {target_scale}?\")\n",
    "    elif source_scale ==\"Fahrenheit\" and temperature >= -459.67:\n",
    "        if target_scale == \"Kelvin\":\n",
    "            temperature_fk = (temperature -32 ) * (5/9) + 273.15\n",
    "            print(f\"{temperature_fk:.2f}\")\n",
    "        elif target_scale == \"Celsius\":\n",
    "            temperature_fc = ( temperature -32 ) * (5/9)\n",
    "            print(f\"{temperature_fc:.2f}\")\n",
    "        elif target_scale == \"Fahrenheit\":\n",
    "            print(f\"Source_scale can not be the same as target_scale!!!!\")\n",
    "        else: \n",
    "            print(f\"What is {target_scale}?\")\n",
    "    elif source_scale == \"Kelvin\" and temperature >= 0:\n",
    "        if target_scale == 'Celsius':\n",
    "            temperature_kc = temperature - 273.15\n",
    "            print(f\"{temperature_kc:.2f}\")\n",
    "        elif target_scale == \"Fahrenheit\":\n",
    "            temperature_kf = (temperature -273.15) *(9/5) + 32\n",
    "            print(f\"{temperature_kf:.2f}\")\n",
    "        elif target_scale == \"Kelvin\":\n",
    "            print(f\"Source_scale can not be the same as target_scale!!!!\")\n",
    "        else: \n",
    "            print(f\"What is {target_scale}?\")\n",
    "    else:\n",
    "        print(f\"Please check whether {temperature} and/or {source_scale} is the approriate value!\")\n",
    "\n",
    "\n",
    "convert_temperature(200,\"Celsius\",\"Kelvin\")\n",
    "convert_temperature(-3000,\"Celsius\",\"Kelvin\")\n",
    "convert_temperature(200,\"Celsius\",\"Hello\")\n",
    "convert_temperature(200,\"Thank you\",\"Kelvin\")\n",
    "convert_temperature(-150,\"Fahrenheit\",\"Kelvin\")\n",
    "convert_temperature(20,\"Kelvin\",\"Celsius\")\n",
    "convert_temperature(20,\"Kelvin\",\"Kelvin\")"
   ]
  },
  {
   "cell_type": "code",
   "execution_count": 18,
   "id": "2ef1b422",
   "metadata": {},
   "outputs": [
    {
     "name": "stdout",
     "output_type": "stream",
     "text": [
      "473.15\n",
      "Please check whether -3000 and/or Celsius is the approriate value!\n",
      "Wrong target scale!\n",
      "Please check whether 200 and/or Thank you is the approriate value!\n",
      "172.04\n",
      "-253.15\n",
      "wrong target scale\n",
      "Target scale must be either 'Kelvin' or 'Celsius'.\n"
     ]
    }
   ],
   "source": [
    "def convert_temperature(temperature,source_scale = \"\",target_scale=\"\"):\n",
    "    if source_scale == \"Celsius\" and temperature >= -273.15:\n",
    "        if target_scale in (\"Kelvin\" or \"Fahrenheit\"):\n",
    "            convert_celsius(temperature,target_scale)\n",
    "        else:\n",
    "            print(\"Wrong target scale!\")\n",
    "    elif source_scale ==\"Fahrenheit\" and temperature >= -459.67:\n",
    "            convert_fahrenheit(temperature,target_scale)\n",
    "    elif source_scale == \"Kelvin\" and temperature >= 0:\n",
    "        if target_scale == 'Celsius':\n",
    "            temperature_kc = temperature - 273.15\n",
    "            print(f\"{temperature_kc:.2f}\")\n",
    "        elif target_scale == \"Fahrenheit\":\n",
    "            temperature_kf = (temperature -273.15) *(9/5) + 32\n",
    "            print(f\"{temperature_kf:.2f}\")\n",
    "        else:\n",
    "             print(\"wrong target scale\")\n",
    "    else:\n",
    "        print(f\"Please check whether {temperature} and/or {source_scale} is the approriate value!\")\n",
    "\n",
    "\n",
    "convert_temperature(200,\"Celsius\",\"Kelvin\")\n",
    "convert_temperature(-3000,\"Celsius\",\"Kelvin\")\n",
    "convert_temperature(200,\"Celsius\",\"Hello\")\n",
    "convert_temperature(200,\"Thank you\",\"Kelvin\")\n",
    "convert_temperature(-150,\"Fahrenheit\",\"Kelvin\")\n",
    "convert_temperature(20,\"Kelvin\",\"Celsius\")\n",
    "convert_temperature(20,\"Kelvin\",\"Kelvin\")\n",
    "convert_temperature(-150,\"Fahrenheit\",\"Chicken\")"
   ]
  }
 ],
 "metadata": {
  "kernelspec": {
   "display_name": "learning-portfolio-Eldonchng",
   "language": "python",
   "name": "python3"
  },
  "language_info": {
   "codemirror_mode": {
    "name": "ipython",
    "version": 3
   },
   "file_extension": ".py",
   "mimetype": "text/x-python",
   "name": "python",
   "nbconvert_exporter": "python",
   "pygments_lexer": "ipython3",
   "version": "3.13.5"
  },
  "toc": {
   "base_numbering": 1,
   "nav_menu": {},
   "number_sections": true,
   "sideBar": true,
   "skip_h1_title": false,
   "title_cell": "Table of Contents",
   "title_sidebar": "Contents",
   "toc_cell": false,
   "toc_position": {},
   "toc_section_display": true,
   "toc_window_display": false
  }
 },
 "nbformat": 4,
 "nbformat_minor": 5
}
