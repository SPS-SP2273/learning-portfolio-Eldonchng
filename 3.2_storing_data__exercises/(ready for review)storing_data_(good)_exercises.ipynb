{
 "cells": [
  {
   "attachments": {},
   "cell_type": "markdown",
   "id": "123456",
   "metadata": {},
   "source": [
    "<div style=\"text-align:left;font-size:2em\"><span style=\"font-weight:bolder;font-size:1.25em\">SP2273 | Learning Portfolio</span><br><br><span style=\"font-weight:bold;color:darkred\">Storing Data (Good) Exercises</span></div>"
   ]
  },
  {
   "cell_type": "markdown",
   "id": "aff3d648",
   "metadata": {},
   "source": [
    "1. Subsetting refers to \"select\" an element \n",
    "2. Indexing refers to choosing a element\n",
    "3. Slicing refers to choosing a range of elements\n",
    "4. Masking refers to only allowing certain elements that meet a certain conditions to be seen."
   ]
  },
  {
   "cell_type": "code",
   "execution_count": 6,
   "id": "ded376cd",
   "metadata": {},
   "outputs": [
    {
     "name": "stdout",
     "output_type": "stream",
     "text": [
      "A\n",
      "C\n",
      "E\n",
      "G\n",
      "I\n"
     ]
    }
   ],
   "source": [
    "import numpy as np\n",
    "\n",
    "np_array_2d = np.array([[1, \"A\"], [3, \"C\"], [2, \"B\"], [4, \"D\"],\n",
    "                        [5, \"E\"], [7, \"G\"], [6, \"F\"], [8, \"H\"],\n",
    "                        [10, \"J\"], [9, \"I\"]])\n",
    "np_array_2dt = np_array_2d[:,0]\n",
    "np_array_int = np_array_2dt.astype(int)\n",
    "np_array_rem = np_array_int % 2\n",
    "np_array_mask = np_array_rem > 0\n",
    "for count,value in enumerate(np_array_mask):\n",
    "    if value == True:\n",
    "        print(np_array_2d[count,-1])\n"
   ]
  },
  {
   "cell_type": "code",
   "execution_count": null,
   "id": "8e92d816",
   "metadata": {},
   "outputs": [
    {
     "name": "stdout",
     "output_type": "stream",
     "text": [
      "[[ 1  0  1 -1 -1]\n",
      " [ 1 -1  1 -1 -1]\n",
      " [ 1 -1 -1  1 -1]\n",
      " [-1  1  1 -1 -1]\n",
      " [ 1 -1  1 -1  1]]\n"
     ]
    }
   ],
   "source": [
    "list=[[66, 50, 57, -1, -1],[92, -1, 88, -1, -1], [75, -1, -1, 76, -1], [-1, 51, 87, -1, -1], [71, -1, 67, -1, 69]]\n",
    "np_array = np.array(list)\n",
    "np_array[np_array == 50] = 0\n",
    "np_array[np_array > 50] = 1\n",
    "print(np_array)\n"
   ]
  }
 ],
 "metadata": {
  "kernelspec": {
   "display_name": "learning-portfolio-Eldonchng",
   "language": "python",
   "name": "python3"
  },
  "language_info": {
   "codemirror_mode": {
    "name": "ipython",
    "version": 3
   },
   "file_extension": ".py",
   "mimetype": "text/x-python",
   "name": "python",
   "nbconvert_exporter": "python",
   "pygments_lexer": "ipython3",
   "version": "3.13.5"
  },
  "toc": {
   "base_numbering": 1,
   "nav_menu": {},
   "number_sections": true,
   "sideBar": true,
   "skip_h1_title": false,
   "title_cell": "Table of Contents",
   "title_sidebar": "Contents",
   "toc_cell": false,
   "toc_position": {},
   "toc_section_display": true,
   "toc_window_display": false
  }
 },
 "nbformat": 4,
 "nbformat_minor": 5
}
